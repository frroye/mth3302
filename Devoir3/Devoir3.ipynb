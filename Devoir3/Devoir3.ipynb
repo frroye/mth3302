{
 "cells": [
  {
   "cell_type": "markdown",
   "metadata": {},
   "source": [
    "# MTH3302 : Méthodes probabilistes et statistiques pour l'I.A.\n",
    "\n",
    "Jonathan Jalbert<br/>\n",
    "Professeur adjoint au Département de mathématiques et de génie industriel<br/>\n",
    "Polytechnique Montréal<br/>\n",
    "\n",
    "# Devoir 3 - Régression logistique ( 15 points )\n",
    "\n",
    "Le présent devoir concerne les notions de la régression logistique vues au Chapitre 3 du cours. \n",
    "\n",
    "## Devoir effectué par\n",
    "\n",
    "NOM, PRÉNOM - MATRICULE\n",
    "\n",
    "NOM, PRÉNOM - MARTICULE\n",
    "\n",
    "**Déclaration d’intégrité relative au plagiat**\n",
    "\n",
    "Nous certifions sur l’honneur :\n",
    "- Que les résultats décrits dans ce rapport sont l’aboutissement de notre travail.\n",
    "- Que nous sommes les auteurs de ce rapport.\n",
    "- Que nous n'avons pas utilisé des sources ou résultats tiers sans clairement les citer et les référencer selon les règles bibliographiques préconisées.\n",
    "\n",
    "Nous déclarons que ce travail ne peut être soupçonné de plagiat.\n",
    "\n",
    "\n",
    "# Contexte : Classification des tumeurs\n",
    "\n",
    "Une tumeur est un groupe de cellules anormales qui forment une masse. Les tumeurs se développent et se comportent différemment, selon qu’elles soient cancéreuses (malignes), non cancéreuses (bénignes). Le but du concours sera de prédire si une tumeur est bénigne (0) ou maligne (1) en fonction des caractéristiques suivantes récoltées par imagerie médicale : \n",
    "\n",
    "- radius : distance moyenne entre le centre de la tumeur et son périmètre (en mm) ;\n",
    "- texture : écart-type des niveaux de gris représentant l'image de la tumeur ;\n",
    "- perimeter : périmètre de la tumeur (en mm) ;\n",
    "- area : superficie de la tumeur (en mm²) ;\n",
    "- smoothness : variation locale normalisée en fonction du radius (indice de rugosité) ;\n",
    "- compactness : perimeter^2 / area -1 (indice de compacité) ;\n",
    "- symmetry : mesure de symétrie ; \n",
    "- fractal dimension : (\"coastline approximation\" - 1).\n",
    "\n",
    "Les données sont issues de 569 images. Vous aurez à partitionner le jeu de données en ensemble d'entraînement et en ensemble de validation. Le code est fourni dans les premières cellules de code. La partition est fonction de vos numéros de matricules, alors vous avez tous des échantillons uniques.\n",
    "\n",
    "# Consignes\n",
    "\n",
    "- Le devoir doit être remis sur Moodle **avant 23h59 le lundi 22 février 2020.** Les retards ne seront pas tolérés car le solutionnaire sera publié dès mardi.\n",
    "- Le devoir a une pondération de 7.5%.\n",
    "- Écrivez vos noms et vos matricules dans l'espace prévu à cet effet de cette cellule et dans la cellule pour le partitionnement.\n",
    "- Vous pouvez compléter le devoir en équipe de deux personnes. Dans ce cas, un seul fichier par équipe doit être remis. Pour vous aider à trouver un coéquipier, le canal de discussion *#trouver_un_coéquipier* a été créé sur Slack.\n",
    "- Le devoir doit être complété dans le présent calepin Jupyter en ajoutant autant de cellules de texte et de code que nécessaires. Vous remettrez ce fichier en format *.ipynb*. Le nom du fichier doit être *matricule1_matricule2_devoir3.ipynb*.\n",
    "- N'utilisez que les librairies introduites à la cellule suivante.\n",
    "- Vous pouvez utiliser directement les fonction `auc()` et `rocplot()` fournies. \n",
    "\n",
    "## Chargement des libairies"
   ]
  },
  {
   "cell_type": "code",
   "execution_count": null,
   "metadata": {},
   "outputs": [],
   "source": [
    "using CSV\n",
    "using Combinatorics\n",
    "using DataFrames\n",
    "using Dates\n",
    "using GLM\n",
    "using Gadfly\n",
    "using MLBase\n",
    "using Random\n",
    "using Statistics"
   ]
  },
  {
   "cell_type": "markdown",
   "metadata": {},
   "source": [
    "## Écriture des matricules\n",
    "\n",
    "Écrivez vos matricules ici. Si vous êtes seule, laissez le matricule2 à 0."
   ]
  },
  {
   "cell_type": "code",
   "execution_count": null,
   "metadata": {},
   "outputs": [],
   "source": [
    "matricule1 = 123456\n",
    "matricule2 = 0"
   ]
  },
  {
   "cell_type": "code",
   "execution_count": null,
   "metadata": {},
   "outputs": [],
   "source": [
    "\"\"\"\n",
    "    auc(gt::Array{<:Real}, scores::Array{<:Real})\n",
    "\n",
    "Compute the area under the ROC curve based on the ground truth `gt` and the success probability `scores`.\n",
    "\n",
    "See also `roc()` of MLBase.\n",
    "\"\"\"\n",
    "function auc(gt::Array{<:Real},scores::Array{<:Real})\n",
    "\n",
    "    # Compute the ROC curve for 100 equally spaced thresholds - see `roc()`\n",
    "    r = roc(gt, scores, 0:.01:1)\n",
    "\n",
    "    # Compute the true positive rate and false positive rate\n",
    "    tpr = true_positive_rate.(r)\n",
    "    fpr = false_positive_rate.(r)\n",
    "\n",
    "    # Numerical computation of the area under the ROC curve\n",
    "    p = sortperm(fpr)\n",
    "\n",
    "    permute!(tpr,p)\n",
    "    permute!(fpr,p)\n",
    "\n",
    "    area = 0.0\n",
    "\n",
    "    for i in 2:length(tpr)\n",
    "        dx = fpr[i] - fpr[i-1]\n",
    "        dy = tpr[i] - tpr[i-1]\n",
    "        area += dx*tpr[i-1] + dx*dy/2\n",
    "    end\n",
    "\n",
    "    return area\n",
    "\n",
    "end\n",
    "\n",
    "\n",
    "\"\"\"\n",
    "    rocplot(gt::Array{<:Real},scores::Array{<:Real})\n",
    "\n",
    "Show the ROC curve corresponding to the ground truth `gt` and the success probability `scores`.\n",
    "\n",
    "The curve is computed for 100 equally spaced thresholds.\n",
    "\"\"\"\n",
    "function rocplot(gt::Array{<:Real},scores::Array{<:Real})\n",
    "\n",
    "    # Compute the ROC curve for 100 equally spaced thresholds - see `roc()`\n",
    "    r = roc(gt, scores, 0:.01:1)\n",
    "\n",
    "    # Compute the true positive rate and false positive rate\n",
    "    tpr = true_positive_rate.(r)\n",
    "    fpr = false_positive_rate.(r)\n",
    "\n",
    "    return plot(x=fpr, y=tpr, Geom.line, Geom.abline(color=\"red\", style=:dash),\n",
    "        Guide.xlabel(\"False Positive Rate\"), Guide.ylabel(\"True Positive Rate\"))\n",
    "\n",
    "end"
   ]
  },
  {
   "cell_type": "markdown",
   "metadata": {},
   "source": [
    "## Chargement et partitionnement des données\n",
    "\n",
    "#### Chargement des données"
   ]
  },
  {
   "cell_type": "code",
   "execution_count": null,
   "metadata": {},
   "outputs": [],
   "source": [
    "data = CSV.read(\"data.csv\", DataFrame)\n",
    "first(data, 10)"
   ]
  },
  {
   "cell_type": "markdown",
   "metadata": {},
   "source": [
    "#### Partitionnement en ensemble d'entraînement et de validation\n",
    "\n",
    "Le partitionnement est le suivant :\n",
    "- ensemble d'entraînement : 80%\n",
    "- ensemble d'entraînement : 20%"
   ]
  },
  {
   "cell_type": "code",
   "execution_count": null,
   "metadata": {},
   "outputs": [],
   "source": [
    "n = Int(round(nrow(data)*.8))\n",
    "\n",
    "Random.seed!(matricule1+matricule2)\n",
    "\n",
    "train_id = sample(1:nrow(data), n, replace=false, ordered=true)\n",
    "valid_id = setdiff(1:nrow(data), train_id)\n",
    "\n",
    "train = data[train_id, :]\n",
    "first(train,10)"
   ]
  },
  {
   "cell_type": "code",
   "execution_count": null,
   "metadata": {},
   "outputs": [],
   "source": [
    "valid = data[valid_id, :]\n",
    "first(valid,10)"
   ]
  },
  {
   "cell_type": "markdown",
   "metadata": {},
   "source": [
    "## Exercice 1 - Analyse exploratoire sommaire (3 points)\n",
    "\n",
    "On s'intéresse ici à illustrer le lien entre le caractère bénin (:diagnosis = 0) ou malin (:diagnosis = 1) des tumeurs en fonction du rayon de celles-ci. **N'ajustez pas de modèle statistique pour répondre aux questions de l'exercice 1.**\n",
    "\n",
    "Cet exercice ne constitue que la première étape d'une analyse exploratoire sommaire. Je vous encourage à poursuivre l'analyse exploratoire pour mieux cerner le problème général. "
   ]
  },
  {
   "cell_type": "markdown",
   "metadata": {},
   "source": [
    "#### (a) Vérifiez à l'aide d'un graphique approprié si le rayon de la tumeur semble influencer le diganostic.\n",
    "\n",
    "Choisissez le graphique qui vous semble le plus éloquent. Imaginez que vous devez le présentez à un groupe de médecins qui ne connaissent rien à la statistique et à l'apprentissage machine."
   ]
  },
  {
   "cell_type": "code",
   "execution_count": null,
   "metadata": {},
   "outputs": [],
   "source": []
  },
  {
   "cell_type": "markdown",
   "metadata": {},
   "source": [
    "#### (b) Parmi les tumeurs dont le rayon excède 12 mm, calculez la proportion empirique des tumeurs malignes."
   ]
  },
  {
   "cell_type": "code",
   "execution_count": null,
   "metadata": {},
   "outputs": [],
   "source": []
  },
  {
   "cell_type": "markdown",
   "metadata": {},
   "source": [
    "#### (c) Seriez-vous en mesure de calculez le rayon pour lequel 95% des tumeurs sont malignes ?\n",
    "\n",
    "Si oui, calculez-le. Sinon, expliquez pourquoi c'est difficile."
   ]
  },
  {
   "cell_type": "code",
   "execution_count": null,
   "metadata": {},
   "outputs": [],
   "source": []
  },
  {
   "cell_type": "markdown",
   "metadata": {},
   "source": []
  },
  {
   "cell_type": "markdown",
   "metadata": {},
   "source": [
    "## Exercice 2 - Modélisation du diagnostic en fonction du rayon (8 points)\n",
    "\n",
    "#### a) Estimation des paramètres\n",
    "\n",
    "En utilisant comme seule variable explicative le rayon de la tumeur, estimez les paramètres avec les données de l'ensemble d'entraînement du modèle de régression logistique en utilisant le fonction de lien logit. Donnez explicitement β̂₀ et β̂₁.\n",
    "\n",
    "**Suggestion :** Utilisez la fonction `glm()` de la librairie *GLM.jl*."
   ]
  },
  {
   "cell_type": "code",
   "execution_count": null,
   "metadata": {},
   "outputs": [],
   "source": []
  },
  {
   "cell_type": "markdown",
   "metadata": {},
   "source": [
    "#### b) Si une tumeur possède un rayon de 12 mm, quelle est l'estimation de la probabilité quelle soit maligne ?"
   ]
  },
  {
   "cell_type": "code",
   "execution_count": null,
   "metadata": {},
   "outputs": [],
   "source": []
  },
  {
   "cell_type": "markdown",
   "metadata": {},
   "source": [
    "#### c) Quelle est le rayon pour lequel on est sûr à 80% que la tumeur est maligne ?\n",
    "\n",
    "Expliquez bien les détails de votre calcul."
   ]
  },
  {
   "cell_type": "code",
   "execution_count": null,
   "metadata": {},
   "outputs": [],
   "source": []
  },
  {
   "cell_type": "markdown",
   "metadata": {},
   "source": [
    "#### d) Évaluation de la qualité du modèle\n",
    "\n",
    "Tracez la courbe ROC du modèle et calculez l'aire sous la courbe. Donnez une interprétation pratique de ces mesures."
   ]
  },
  {
   "cell_type": "code",
   "execution_count": null,
   "metadata": {},
   "outputs": [],
   "source": []
  },
  {
   "cell_type": "code",
   "execution_count": null,
   "metadata": {},
   "outputs": [],
   "source": []
  },
  {
   "cell_type": "markdown",
   "metadata": {},
   "source": [
    "#### e) Règle de décision\n",
    "\n",
    "Laquelle des règles suivantes est la plus appropriée pour prédire la malignité d'une tumeur :\n",
    "\n",
    "- Règle 1 : si le rayon dépasse 12 *mm*.\n",
    "- Règle 2 : si le rayon dépasse 15 *mm*.\n",
    "- Règle 3 : si le rayon dépasse 17.2 *mm*.\n",
    "- Règle 4 : si le rayon dépasse 19.5 *mm*.\n",
    "\n",
    "Justifiez bien quantitativement votre réponse. Utilisez les mesures de qualité qui vous semblent les plus appropriées."
   ]
  },
  {
   "cell_type": "code",
   "execution_count": null,
   "metadata": {},
   "outputs": [],
   "source": []
  },
  {
   "cell_type": "markdown",
   "metadata": {},
   "source": []
  },
  {
   "cell_type": "markdown",
   "metadata": {},
   "source": [
    "#### f) Justification de la méthodologie\n",
    "\n",
    "Un médecin vous regarde incrédule faire la présentation de votre modèle et vous demande à quoi ça sert de faire aussi compliqué. D'après lui, après avoir vu le graphique présenté à l'analyse exploratoire, il est en mesure d'estimer le rayon à partir de lequel les tumeur peuvent être étiquetés comme malignes. À l'oeil, il estime le seuil 15 *mm*. Comment pouvez justifier l'utilisation de votre approche ? \n",
    "\n",
    "**Note :** C'est une question typique que vous vous ferez certainement poser !"
   ]
  },
  {
   "cell_type": "markdown",
   "metadata": {},
   "source": []
  },
  {
   "cell_type": "markdown",
   "metadata": {},
   "source": [
    "## Exercice 3 - Prédiction des diagnostics (4 points)\n",
    "\n",
    "Identifiez les variables permettant de mieux prédire les diagnostics. Vous devez obligatoirement utilisée la régression logistique mais les détails de la méthodologie sont laissés à votre discrétion. Vous pouvez utiliser comme bon vous semble la courbe ROC, l'échantillon d'entraînement, l'échantillon d'entraînement, etc.\n",
    "\n",
    "**Note :** Vous ne devez ici qu'identifier les variables explicatives les plus importantes pour la prédiction des diagnositics. Vous ne devez pas spécifier la règle de décision optimale."
   ]
  },
  {
   "cell_type": "markdown",
   "metadata": {},
   "source": []
  },
  {
   "cell_type": "code",
   "execution_count": null,
   "metadata": {},
   "outputs": [],
   "source": []
  },
  {
   "cell_type": "code",
   "execution_count": null,
   "metadata": {},
   "outputs": [],
   "source": []
  }
 ],
 "metadata": {
  "@webio": {
   "lastCommId": null,
   "lastKernelId": null
  },
  "kernelspec": {
   "display_name": "Julia 1.5.3",
   "language": "julia",
   "name": "julia-1.5"
  },
  "language_info": {
   "file_extension": ".jl",
   "mimetype": "application/julia",
   "name": "julia",
   "version": "1.5.3"
  }
 },
 "nbformat": 4,
 "nbformat_minor": 2
}
