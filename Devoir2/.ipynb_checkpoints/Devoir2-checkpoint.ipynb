{
 "cells": [
  {
   "cell_type": "markdown",
   "metadata": {},
   "source": [
    "# MTH3302 : Méthodes probabilistes et statistiques pour l'I.A.\n",
    "\n",
    "Jonathan Jalbert<br/>\n",
    "Professeur adjoint au Département de mathématiques et de génie industriel<br/>\n",
    "Polytechnique Montréal<br/>\n",
    "\n",
    "# Devoir 2 - Régression linéaire ( 15 points )\n",
    "\n",
    "Le présent devoir concerne les notions de la régression linéaire vues au Chapitre 2 du cours. Pour ce devoir, vous devez élaborer une analyse complète de régression à l'exercice 1 pour répondre aux questions de l'exercice 2.\n",
    "\n",
    "\n",
    "## Devoir effectué par\n",
    "\n",
    "Roy, Frédérique - 1894397\n",
    "\n",
    "Paré, Marie-Christine - MARTICULE\n",
    "\n",
    "**Déclaration d’intégrité relative au plagiat**\n",
    "\n",
    "Nous certifions sur l’honneur :\n",
    "- Que les résultats décrits dans ce rapport sont l’aboutissement de notre travail.\n",
    "- Que nous sommes les auteurs de ce rapport.\n",
    "- Que nous n'avons pas utilisé des sources ou résultats tiers sans clairement les citer et les référencer selon les règles bibliographiques préconisées.\n",
    "\n",
    "Nous déclarons que ce travail ne peut être soupçonné de plagiat.\n",
    "\n",
    "\n",
    "\n",
    "## Contexte : Glycémie des patients\n",
    "\n",
    "Nous étudierons la glycémie sanguine (glu) en fonction de plusieurs variables explicatives : \n",
    "- l'âge du patient (age)\n",
    "- l'indice de masse corporel du patient (bmi)\n",
    "- le sexe du patient (sex)\n",
    "- de la tension artérielle moyenne (map) \n",
    "- 5 indicateur sanguins (tc, ldl, hdl, tch et ltg). \n",
    "\n",
    "\n",
    "## Consignes\n",
    "\n",
    "- Le devoir doit être remis sur Moodle **avant 23h59 lundi le 15 février 2020**. Les retards ne seront pas tolérés car le solutionnaire sera publié dès mardi.\n",
    "- Le devoir a une pondération de 15%.\n",
    "- Écrivez vos noms et vos matricules dans l'espace prévu à cet effet dans cette cellule.\n",
    "- Vous pouvez compléter le devoir en équipe de deux personnes. Dans ce cas, un seul fichier par équipe doit être remis. Pour vous aider à trouver un coéquipier, le canal de discussion *#trouver_un_coéquipier* a été créé sur Slack.\n",
    "- Le devoir doit être complété dans le présent calepin Jupyter en ajoutant autant de cellules de texte et de code que nécessaires. Vous remettrez ce fichier en format *.ipynb*. Le nom du fichier doit être *matricule1_matricule2_devoir2.ipynb*.\n",
    "- N'utilisez que les librairies introduites à la cellule suivante.\n",
    "\n",
    "## Chargement des libairies"
   ]
  },
  {
   "cell_type": "code",
   "execution_count": 4,
   "metadata": {},
   "outputs": [],
   "source": [
    "using CSV \n",
    "using DataFrames\n",
    "using Distributions\n",
    "using Gadfly\n",
    "using LinearAlgebra\n",
    "using Statistics"
   ]
  },
  {
   "cell_type": "markdown",
   "metadata": {},
   "source": [
    "## Chargement des données"
   ]
  },
  {
   "cell_type": "code",
   "execution_count": 5,
   "metadata": {},
   "outputs": [
    {
     "data": {
      "text/html": [
       "<table class=\"data-frame\"><thead><tr><th></th><th>age</th><th>sex</th><th>bmi</th><th>map</th><th>tc</th><th>ldl</th><th>hdl</th><th>tch</th><th>ltg</th><th>glu</th></tr><tr><th></th><th>Int64</th><th>Int64</th><th>Float64</th><th>Float64</th><th>Int64</th><th>Float64</th><th>Float64</th><th>Float64</th><th>Float64</th><th>Int64</th></tr></thead><tbody><p>5 rows × 10 columns</p><tr><th>1</th><td>59</td><td>1</td><td>32.1</td><td>101.0</td><td>157</td><td>93.2</td><td>38.0</td><td>4.0</td><td>2.11</td><td>87</td></tr><tr><th>2</th><td>48</td><td>0</td><td>21.6</td><td>87.0</td><td>183</td><td>103.2</td><td>70.0</td><td>3.0</td><td>1.69</td><td>69</td></tr><tr><th>3</th><td>72</td><td>1</td><td>30.5</td><td>93.0</td><td>156</td><td>93.6</td><td>41.0</td><td>4.0</td><td>2.03</td><td>85</td></tr><tr><th>4</th><td>24</td><td>0</td><td>25.3</td><td>84.0</td><td>198</td><td>131.4</td><td>40.0</td><td>5.0</td><td>2.12</td><td>89</td></tr><tr><th>5</th><td>50</td><td>0</td><td>23.0</td><td>101.0</td><td>192</td><td>125.4</td><td>52.0</td><td>4.0</td><td>1.86</td><td>80</td></tr></tbody></table>"
      ],
      "text/latex": [
       "\\begin{tabular}{r|cccccccccc}\n",
       "\t& age & sex & bmi & map & tc & ldl & hdl & tch & ltg & glu\\\\\n",
       "\t\\hline\n",
       "\t& Int64 & Int64 & Float64 & Float64 & Int64 & Float64 & Float64 & Float64 & Float64 & Int64\\\\\n",
       "\t\\hline\n",
       "\t1 & 59 & 1 & 32.1 & 101.0 & 157 & 93.2 & 38.0 & 4.0 & 2.11 & 87 \\\\\n",
       "\t2 & 48 & 0 & 21.6 & 87.0 & 183 & 103.2 & 70.0 & 3.0 & 1.69 & 69 \\\\\n",
       "\t3 & 72 & 1 & 30.5 & 93.0 & 156 & 93.6 & 41.0 & 4.0 & 2.03 & 85 \\\\\n",
       "\t4 & 24 & 0 & 25.3 & 84.0 & 198 & 131.4 & 40.0 & 5.0 & 2.12 & 89 \\\\\n",
       "\t5 & 50 & 0 & 23.0 & 101.0 & 192 & 125.4 & 52.0 & 4.0 & 1.86 & 80 \\\\\n",
       "\\end{tabular}\n"
      ],
      "text/plain": [
       "\u001b[1m5×10 DataFrame\u001b[0m\n",
       "\u001b[1m Row \u001b[0m│\u001b[1m age   \u001b[0m\u001b[1m sex   \u001b[0m\u001b[1m bmi     \u001b[0m\u001b[1m map     \u001b[0m\u001b[1m tc    \u001b[0m\u001b[1m ldl     \u001b[0m\u001b[1m hdl     \u001b[0m\u001b[1m tch     \u001b[0m\u001b[1m ltg  \u001b[0m ⋯\n",
       "\u001b[1m     \u001b[0m│\u001b[90m Int64 \u001b[0m\u001b[90m Int64 \u001b[0m\u001b[90m Float64 \u001b[0m\u001b[90m Float64 \u001b[0m\u001b[90m Int64 \u001b[0m\u001b[90m Float64 \u001b[0m\u001b[90m Float64 \u001b[0m\u001b[90m Float64 \u001b[0m\u001b[90m Float\u001b[0m ⋯\n",
       "─────┼──────────────────────────────────────────────────────────────────────────\n",
       "   1 │    59      1     32.1    101.0    157     93.2     38.0      4.0  2.11  ⋯\n",
       "   2 │    48      0     21.6     87.0    183    103.2     70.0      3.0  1.69\n",
       "   3 │    72      1     30.5     93.0    156     93.6     41.0      4.0  2.03\n",
       "   4 │    24      0     25.3     84.0    198    131.4     40.0      5.0  2.12\n",
       "   5 │    50      0     23.0    101.0    192    125.4     52.0      4.0  1.86  ⋯\n",
       "\u001b[31m                                                               2 columns omitted\u001b[0m"
      ]
     },
     "execution_count": 5,
     "metadata": {},
     "output_type": "execute_result"
    }
   ],
   "source": [
    "data = CSV.read(\"diabetes.csv\", DataFrame)\n",
    "select!(data, Not(:prog))\n",
    "first(data,5)"
   ]
  },
  {
   "cell_type": "markdown",
   "metadata": {},
   "source": [
    "## Exercice 1 - Régression linéaire simple (5 points)\n",
    "\n",
    "### (a) Estimez les coefficients de détermination de la régression linéaire simple en utilisant la tension artérielle moyenne (map) comme variable explicative pour prédire la glycémie (gly)."
   ]
  },
  {
   "cell_type": "code",
   "execution_count": 23,
   "metadata": {},
   "outputs": [
    {
     "name": "stdout",
     "output_type": "stream",
     "text": [
      "β̂₀ = 60.54670237176922\n",
      "β̂₁ = 0.32450691908643253\n"
     ]
    }
   ],
   "source": [
    "x₁ = convert(Array{Float64},data[!,:map])\n",
    "y = convert(Array{Float64},data[!,:glu])\n",
    "\n",
    "function calculerCoefficientsDeterminationSimple(x, y)\n",
    "    n = length(y)\n",
    "    x̄ = mean(x)\n",
    "    ȳ = mean(y)\n",
    "\n",
    "    β̂₁ = sum( (x[i] - x̄)*(y[i] - ȳ) for i=1:n) / sum( (x[i] - x̄)^2 for i=1:n )\n",
    "    β̂₀ = ȳ - β̂₁*x̄\n",
    "    return [ β̂₀, β̂₁ ]\n",
    "end\n",
    "\n",
    "coefficient = calculerCoefficientsDeterminationSimple(x₁, y)\n",
    "β̂₀ = coefficient[1]\n",
    "β̂₁ = coefficient[2]\n",
    "println(\"β̂₀ = $β̂₀\")\n",
    "println(\"β̂₁ = $β̂₁\")"
   ]
  },
  {
   "cell_type": "markdown",
   "metadata": {},
   "source": [
    "### (b) Calculez le coefficient de détermination du modèle en (a)."
   ]
  },
  {
   "cell_type": "code",
   "execution_count": 24,
   "metadata": {},
   "outputs": [
    {
     "name": "stdout",
     "output_type": "stream",
     "text": [
      "R² = 0.15244004445789694\n"
     ]
    }
   ],
   "source": [
    "function calculerR2(x, y)\n",
    "    coefficient = calculerCoefficientsDeterminationSimple(x, y)\n",
    "    β̂₀ = coefficient[1]\n",
    "    β̂₁ = coefficient[2]\n",
    "    ŷ = β̂₀ .+ β̂₁*x\n",
    "    e = y - ŷ\n",
    "\n",
    "    SST = sum( (y[i] - ȳ)^2 for i=1:n )\n",
    "    SSE = sum( e.^2 )\n",
    "\n",
    "    R² = 1 - SSE/SST \n",
    "    return R²\n",
    "end\n",
    "R²=calculerR2(x₁, y)\n",
    "\n",
    "\n",
    "println(\"R² = \",R²)"
   ]
  },
  {
   "cell_type": "markdown",
   "metadata": {},
   "source": [
    "### (c) Est-ce que la tension artérielle moyenne possède un pouvoir prédictif significatif pour la glycémie ?\n",
    "\n",
    "Justifiez bien votre réponse."
   ]
  },
  {
   "cell_type": "code",
   "execution_count": null,
   "metadata": {},
   "outputs": [],
   "source": [
    "Le coefficiant de détermination nous indique qu'environ 15% de la\n",
    "variabilité de la glycémie est expliquée par la tension artérielle. "
   ]
  },
  {
   "cell_type": "markdown",
   "metadata": {},
   "source": [
    "### (d) Si un patient a une tension artérielle moyenne de 100, calculez un intervalle de confiance de niveau 95% pour sa glycémie."
   ]
  },
  {
   "cell_type": "code",
   "execution_count": 19,
   "metadata": {},
   "outputs": [
    {
     "name": "stdout",
     "output_type": "stream",
     "text": [
      "0.00868530910541137\n",
      "[92.989 , 93.006]\n"
     ]
    }
   ],
   "source": [
    "\n",
    "V = inv(x₁'x₁)\n",
    "p =1\n",
    "q = quantile(TDist(n-p-1),.95)\n",
    "\n",
    "σ̂²  = SSE/(n-p-1)\n",
    "\n",
    "se = q * sqrt.(σ̂² * V)\n",
    "x= 100\n",
    "a = round.( β̂₀ .+ β̂₁*x- se, digits=3)\n",
    "b = round.(β̂₀ .+ β̂₁*x + se, digits=3)\n",
    "println(\"[$(a) , $(b)]\")\n"
   ]
  },
  {
   "cell_type": "markdown",
   "metadata": {},
   "source": [
    "### (e) Considérez l'indice de masse corporel comme (bmi) comme seule variable explicative. Laquelle des deux variables entre bmi et map possède le plus grand pouvoir prédictif de la glycémie ?\n",
    "\n",
    "Justifiez bien votre réponse."
   ]
  },
  {
   "cell_type": "code",
   "execution_count": 29,
   "metadata": {},
   "outputs": [
    {
     "name": "stdout",
     "output_type": "stream",
     "text": [
      "L'indice de masse corporel (R² = 0.1510721376581331) a un plus faible pouvoir prédictif que la tension artérielle (R² = 0.15244004445789694)pour prédire la glycémie\n"
     ]
    }
   ],
   "source": [
    "xbmi = convert(Array{Float64},data[!,:bmi])\n",
    "R²bmi=calculerR2(xbmi, y)\n",
    "if (R²bmi>R²)\n",
    "    println(\"L'indice de masse corporel (R² = $(R²bmi)) a un plus grand pouvoir prédictif que la tension artérielle (R² = $(R²)) pour prédire la glycémie\")\n",
    "elseif (R²bmi<R²)\n",
    "    println(\"L'indice de masse corporel (R² = $(R²bmi)) a un plus faible pouvoir prédictif que la tension artérielle (R² = $(R²))pour prédire la glycémie\")\n",
    "end"
   ]
  },
  {
   "cell_type": "markdown",
   "metadata": {},
   "source": [
    "## Exercice 2 - Effet du sexe (5 points)\n",
    "\n",
    "### (a) Ajoutez le sexe comme variable explicative au modèle de l'exercice 1(a). Est-ce que le sexe possède un pouvoir prédictif significatif de la glycémie ?"
   ]
  },
  {
   "cell_type": "code",
   "execution_count": 30,
   "metadata": {},
   "outputs": [
    {
     "data": {
      "text/plain": [
       "0.1510721376581331"
      ]
     },
     "execution_count": 30,
     "metadata": {},
     "output_type": "execute_result"
    }
   ],
   "source": [
    "xsex =convert(Array{Float64},data[!,:sex])\n",
    "R²sex=calculerR2(xbmi, y)"
   ]
  },
  {
   "cell_type": "code",
   "execution_count": null,
   "metadata": {},
   "outputs": [],
   "source": []
  },
  {
   "cell_type": "markdown",
   "metadata": {},
   "source": [
    "### (b) Interprétez les estimations des coefficients de régression que vous avez obtenues en 2 (b)."
   ]
  },
  {
   "cell_type": "code",
   "execution_count": null,
   "metadata": {},
   "outputs": [],
   "source": []
  },
  {
   "cell_type": "markdown",
   "metadata": {},
   "source": [
    "### (c) Choix du modèle bidimensionnel\n",
    "\n",
    "Considérez le modèle de régression utilisant l'indice de masse corporelle et le sexe comme variables explicatives. Est-ce un meilleur modèle que celui de l'exercice 2(a) ? Est-ce cohérent avec la réponse du 1(e) ? Justifiez."
   ]
  },
  {
   "cell_type": "code",
   "execution_count": 33,
   "metadata": {
    "scrolled": true
   },
   "outputs": [
    {
     "data": {
      "text/plain": [
       "0.18153854570496808"
      ]
     },
     "execution_count": 33,
     "metadata": {},
     "output_type": "execute_result"
    }
   ],
   "source": [
    "X = hcat(ones(n), xsex, xbmi)\n",
    "function calculerR2multiple(X, y)\n",
    "    β̂ = (X'X)\\X'y\n",
    "    e = y - X*β̂\n",
    "    ȳ = mean(y)\n",
    "    SST = sum( (y[i] - ȳ)^2 for i=1:n )\n",
    "    SSE = e'e\n",
    "\n",
    "    R² = 1 - SSE/SST\n",
    "    return R²\n",
    "end \n",
    "\n",
    "R²2 = calculerR2multiple(X, y)\n"
   ]
  },
  {
   "cell_type": "markdown",
   "metadata": {},
   "source": [
    "## Exercice 3 - Modèle tridimensionnel (5 points)\n",
    "\n",
    "Considérez maintenant le modèle de régression linéaire utilisants les variables `:map`, `:bmi` et `:sex`."
   ]
  },
  {
   "cell_type": "markdown",
   "metadata": {},
   "source": [
    "### (a) Est-ce que l'hypothèse de linéarité semble raisonnable ?\n",
    "\n",
    "Justifiez bien votre réponse. Si elle n'est pas raisonnable, discutez d'une approche possible pour régler la situation. Pas besoin de l'implémenter, seulement de discuter."
   ]
  },
  {
   "cell_type": "code",
   "execution_count": null,
   "metadata": {},
   "outputs": [],
   "source": []
  },
  {
   "cell_type": "markdown",
   "metadata": {},
   "source": [
    "### (b) Est-ce que l'hypothèse d'homoscédasticité de la variance semble raisonnable ?\n",
    "\n",
    "Justifiez bien votre réponse. Si elle n'est pas raisonnable, discutez d'une approche possible pour régler la situation. Pas besoin de l'implémenter, seulement de discuter."
   ]
  },
  {
   "cell_type": "code",
   "execution_count": null,
   "metadata": {},
   "outputs": [],
   "source": []
  },
  {
   "cell_type": "markdown",
   "metadata": {},
   "source": [
    "### (c) Y a-t-il présence de multicolinéarité ?\n",
    "\n",
    "Justifiez bien votre réponse. S'il y a multicolinéarité, que proposeriez vous pour limiter son effet ?"
   ]
  },
  {
   "cell_type": "code",
   "execution_count": null,
   "metadata": {},
   "outputs": [],
   "source": []
  },
  {
   "cell_type": "code",
   "execution_count": null,
   "metadata": {},
   "outputs": [],
   "source": []
  },
  {
   "cell_type": "code",
   "execution_count": null,
   "metadata": {},
   "outputs": [],
   "source": []
  }
 ],
 "metadata": {
  "@webio": {
   "lastCommId": null,
   "lastKernelId": null
  },
  "kernelspec": {
   "display_name": "Julia 1.5.3",
   "language": "julia",
   "name": "julia-1.5"
  },
  "language_info": {
   "file_extension": ".jl",
   "mimetype": "application/julia",
   "name": "julia",
   "version": "1.5.3"
  }
 },
 "nbformat": 4,
 "nbformat_minor": 2
}
